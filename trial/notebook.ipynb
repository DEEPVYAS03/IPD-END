{
 "cells": [
  {
   "cell_type": "code",
   "execution_count": 5,
   "id": "15b52f42",
   "metadata": {},
   "outputs": [],
   "source": [
    "from pyresparser import ResumeParser\n",
    "import os\n",
    "from docx import Document "
   ]
  },
  {
   "cell_type": "code",
   "execution_count": 6,
   "id": "c14df081",
   "metadata": {},
   "outputs": [
    {
     "name": "stdout",
     "output_type": "stream",
     "text": [
      "Current Working Directory: C:\\Users\\deepv\\Desktop\\IPD\\trial\n"
     ]
    }
   ],
   "source": [
    "print(\"Current Working Directory:\", os.getcwd())"
   ]
  },
  {
   "cell_type": "code",
   "execution_count": 7,
   "id": "0a34bdd3",
   "metadata": {
    "scrolled": false
   },
   "outputs": [
    {
     "name": "stderr",
     "output_type": "stream",
     "text": [
      "C:\\Users\\deepv\\AppData\\Local\\Programs\\Python\\Python311\\Lib\\site-packages\\spacy\\util.py:275: UserWarning: [W031] Model 'en_training' (0.0.0) requires spaCy v2.1 and is incompatible with the current spaCy version (2.3.9). This may lead to unexpected results or runtime errors. To resolve this, download a newer compatible model or retrain your custom model with the current spaCy version. For more details and available updates, run: python -m spacy validate\n",
      "  warnings.warn(warn_msg)\n",
      "C:\\Users\\deepv\\AppData\\Local\\Programs\\Python\\Python311\\Lib\\site-packages\\spacy\\util.py:275: UserWarning: [W031] Model 'en_training' (0.0.0) requires spaCy v2.1 and is incompatible with the current spaCy version (2.3.9). This may lead to unexpected results or runtime errors. To resolve this, download a newer compatible model or retrain your custom model with the current spaCy version. For more details and available updates, run: python -m spacy validate\n",
      "  warnings.warn(warn_msg)\n",
      "C:\\Users\\deepv\\AppData\\Local\\Programs\\Python\\Python311\\Lib\\site-packages\\spacy\\util.py:275: UserWarning: [W031] Model 'en_training' (0.0.0) requires spaCy v2.1 and is incompatible with the current spaCy version (2.3.9). This may lead to unexpected results or runtime errors. To resolve this, download a newer compatible model or retrain your custom model with the current spaCy version. For more details and available updates, run: python -m spacy validate\n",
      "  warnings.warn(warn_msg)\n",
      "C:\\Users\\deepv\\AppData\\Local\\Programs\\Python\\Python311\\Lib\\site-packages\\spacy\\util.py:275: UserWarning: [W031] Model 'en_training' (0.0.0) requires spaCy v2.1 and is incompatible with the current spaCy version (2.3.9). This may lead to unexpected results or runtime errors. To resolve this, download a newer compatible model or retrain your custom model with the current spaCy version. For more details and available updates, run: python -m spacy validate\n",
      "  warnings.warn(warn_msg)\n"
     ]
    }
   ],
   "source": [
    "import os\n",
    "from pyresparser import ResumeParser\n",
    "from PyPDF2 import PdfReader\n",
    "\n",
    "resumes_folder = 'uploads/resumes'\n",
    "\n",
    "res_list = []\n",
    "res_list1 = []\n",
    "\n",
    "for filename in os.listdir(resumes_folder):\n",
    "    resume_path = os.path.join(resumes_folder, filename)\n",
    "\n",
    "    try:\n",
    "        data = ResumeParser(resume_path).get_extracted_data()\n",
    "        res_list.append(data)\n",
    "\n",
    "        pdfReader = PdfReader(resume_path)\n",
    "        pageObj = pdfReader.pages[0]\n",
    "        data1 = pageObj.extract_text()\n",
    "        res_list1.append(data1)\n",
    "\n",
    "    except Exception as e:\n",
    "        print(f\"Error processing {filename}:{e}\")"
   ]
  },
  {
   "cell_type": "code",
   "execution_count": 8,
   "id": "df3355f6",
   "metadata": {},
   "outputs": [
    {
     "data": {
      "text/html": [
       "<div>\n",
       "<style scoped>\n",
       "    .dataframe tbody tr th:only-of-type {\n",
       "        vertical-align: middle;\n",
       "    }\n",
       "\n",
       "    .dataframe tbody tr th {\n",
       "        vertical-align: top;\n",
       "    }\n",
       "\n",
       "    .dataframe thead th {\n",
       "        text-align: right;\n",
       "    }\n",
       "</style>\n",
       "<table border=\"1\" class=\"dataframe\">\n",
       "  <thead>\n",
       "    <tr style=\"text-align: right;\">\n",
       "      <th></th>\n",
       "      <th>name</th>\n",
       "      <th>email</th>\n",
       "      <th>mobile_number</th>\n",
       "      <th>skills</th>\n",
       "      <th>college_name</th>\n",
       "      <th>degree</th>\n",
       "      <th>designation</th>\n",
       "      <th>experience</th>\n",
       "      <th>company_names</th>\n",
       "      <th>no_of_pages</th>\n",
       "      <th>total_experience</th>\n",
       "      <th>resume_string</th>\n",
       "    </tr>\n",
       "  </thead>\n",
       "  <tbody>\n",
       "    <tr>\n",
       "      <th>0</th>\n",
       "      <td>Deep Vyas</td>\n",
       "      <td>deepvyas2003@gmail.com</td>\n",
       "      <td>9969404974</td>\n",
       "      <td>[Api, Ui, Js, Mobile, Mysql, Design, Website, ...</td>\n",
       "      <td>None</td>\n",
       "      <td>[Dwarkadas .J .Sanghvi College of Engineering(...</td>\n",
       "      <td>None</td>\n",
       "      <td>None</td>\n",
       "      <td>None</td>\n",
       "      <td>1</td>\n",
       "      <td>0.0</td>\n",
       "      <td>\\n \\n \\n` \\n \\n \\nOBJECTIV E \\n \\n \\nEDUCATIO...</td>\n",
       "    </tr>\n",
       "    <tr>\n",
       "      <th>1</th>\n",
       "      <td>K R</td>\n",
       "      <td>kroshpan@gmail.com</td>\n",
       "      <td>9152256648</td>\n",
       "      <td>[Sql, P, Website, System, Engineering, Robot, ...</td>\n",
       "      <td>None</td>\n",
       "      <td>None</td>\n",
       "      <td>None</td>\n",
       "      <td>None</td>\n",
       "      <td>None</td>\n",
       "      <td>1</td>\n",
       "      <td>0.0</td>\n",
       "      <td>9152256648 kroshpan@gmail.com  Github  Connect...</td>\n",
       "    </tr>\n",
       "    <tr>\n",
       "      <th>2</th>\n",
       "      <td>SKILLS Programming</td>\n",
       "      <td>ayushiutt1@gmail.com</td>\n",
       "      <td>None</td>\n",
       "      <td>[Analytics, P, Css, Java, Engineering, Process...</td>\n",
       "      <td>None</td>\n",
       "      <td>[Bachelor of Technology\\nInformation Technolog...</td>\n",
       "      <td>[SOCIAL MEDIA MARKETING INTERN]</td>\n",
       "      <td>[SOCIAL MEDIA MARKETING INTERN, O c t   2 0 2 ...</td>\n",
       "      <td>[Ayushi Uttamani]</td>\n",
       "      <td>1</td>\n",
       "      <td>0.0</td>\n",
       "      <td>PROFESSIONAL\\nSUMMARY\\nI am an outgoing,\\nenth...</td>\n",
       "    </tr>\n",
       "    <tr>\n",
       "      <th>3</th>\n",
       "      <td>RISHIKESH S</td>\n",
       "      <td>shrishidurga21@gmail.com</td>\n",
       "      <td>8879374048</td>\n",
       "      <td>[Database, Testing, Mysql, Website, Jupyter, C...</td>\n",
       "      <td>None</td>\n",
       "      <td>None</td>\n",
       "      <td>None</td>\n",
       "      <td>None</td>\n",
       "      <td>None</td>\n",
       "      <td>1</td>\n",
       "      <td>0.0</td>\n",
       "      <td>RISHIKESH  S SHARMA  \\n+91 8879374048  | shris...</td>\n",
       "    </tr>\n",
       "  </tbody>\n",
       "</table>\n",
       "</div>"
      ],
      "text/plain": [
       "                 name                     email mobile_number   \n",
       "0           Deep Vyas    deepvyas2003@gmail.com    9969404974  \\\n",
       "1                 K R        kroshpan@gmail.com    9152256648   \n",
       "2  SKILLS Programming      ayushiutt1@gmail.com          None   \n",
       "3         RISHIKESH S  shrishidurga21@gmail.com    8879374048   \n",
       "\n",
       "                                              skills college_name   \n",
       "0  [Api, Ui, Js, Mobile, Mysql, Design, Website, ...         None  \\\n",
       "1  [Sql, P, Website, System, Engineering, Robot, ...         None   \n",
       "2  [Analytics, P, Css, Java, Engineering, Process...         None   \n",
       "3  [Database, Testing, Mysql, Website, Jupyter, C...         None   \n",
       "\n",
       "                                              degree   \n",
       "0  [Dwarkadas .J .Sanghvi College of Engineering(...  \\\n",
       "1                                               None   \n",
       "2  [Bachelor of Technology\\nInformation Technolog...   \n",
       "3                                               None   \n",
       "\n",
       "                       designation   \n",
       "0                             None  \\\n",
       "1                             None   \n",
       "2  [SOCIAL MEDIA MARKETING INTERN]   \n",
       "3                             None   \n",
       "\n",
       "                                          experience      company_names   \n",
       "0                                               None               None  \\\n",
       "1                                               None               None   \n",
       "2  [SOCIAL MEDIA MARKETING INTERN, O c t   2 0 2 ...  [Ayushi Uttamani]   \n",
       "3                                               None               None   \n",
       "\n",
       "   no_of_pages  total_experience   \n",
       "0            1               0.0  \\\n",
       "1            1               0.0   \n",
       "2            1               0.0   \n",
       "3            1               0.0   \n",
       "\n",
       "                                       resume_string  \n",
       "0   \\n \\n \\n` \\n \\n \\nOBJECTIV E \\n \\n \\nEDUCATIO...  \n",
       "1  9152256648 kroshpan@gmail.com  Github  Connect...  \n",
       "2  PROFESSIONAL\\nSUMMARY\\nI am an outgoing,\\nenth...  \n",
       "3  RISHIKESH  S SHARMA  \\n+91 8879374048  | shris...  "
      ]
     },
     "execution_count": 8,
     "metadata": {},
     "output_type": "execute_result"
    }
   ],
   "source": [
    "import pandas as pd\n",
    "df = pd.DataFrame(res_list)\n",
    "df['resume_string']= ''\n",
    "df['resume_string']= res_list1\n",
    "df"
   ]
  },
  {
   "cell_type": "code",
   "execution_count": 9,
   "id": "94c42534",
   "metadata": {},
   "outputs": [
    {
     "name": "stdout",
     "output_type": "stream",
     "text": [
      "0                                                       [Api, Ui, Js, Mobile, Mysql, Design, Website, Transactions, Python, Html, Information technology, Css, C, Engineering, Ux, Javascript, Technical]\n",
      "1          [Sql, P, Website, System, Engineering, Robot, Security, C++, Automation, Aws, Technical, Communication, Mobile, Hardware, Design, Github, C, Ai, Linux, Programming, R, International, Opencv]\n",
      "2              [Analytics, P, Css, Java, Engineering, Process, Pr, Illustrator, Writing, C++, Communication, Technical, Content, C, Marketing, Wordpress, Html, Facebook, Programming, R, Editing, Video]\n",
      "3    [Database, Testing, Mysql, Website, Jupyter, Css, Pandas, Java, System, Numpy, Engineering, Python, Django, Data analysis, Technical, Algorithms, Design, C, Html, Analysis, Matplotlib, Javascript]\n",
      "Name: skills, dtype: object\n"
     ]
    }
   ],
   "source": [
    "pd.set_option('display.max_colwidth', None)\n",
    "\n",
    "# Display the DataFrame\n",
    "print(df['skills'])"
   ]
  },
  {
   "cell_type": "code",
   "execution_count": null,
   "id": "8401f681",
   "metadata": {},
   "outputs": [],
   "source": []
  }
 ],
 "metadata": {
  "kernelspec": {
   "display_name": "Python 3 (ipykernel)",
   "language": "python",
   "name": "python3"
  },
  "language_info": {
   "codemirror_mode": {
    "name": "ipython",
    "version": 3
   },
   "file_extension": ".py",
   "mimetype": "text/x-python",
   "name": "python",
   "nbconvert_exporter": "python",
   "pygments_lexer": "ipython3",
   "version": "3.11.2"
  }
 },
 "nbformat": 4,
 "nbformat_minor": 5
}
