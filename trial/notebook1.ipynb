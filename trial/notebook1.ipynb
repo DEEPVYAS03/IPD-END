{
 "cells": [
  {
   "cell_type": "code",
   "execution_count": 2,
   "id": "a5d155a2",
   "metadata": {},
   "outputs": [],
   "source": [
    "!pip install PyPDF2 fuzzywuzzy unidecode"
   ]
  },
  {
   "cell_type": "code",
   "execution_count": 46,
   "id": "73c7ee02",
   "metadata": {},
   "outputs": [],
   "source": [
    "import PyPDF2\n",
    "from fuzzywuzzy import fuzz\n",
    "import pandas as pd\n",
    "from unidecode import unidecode\n",
    "import re\n",
    "import os\n",
    "from os.path import isfile, join"
   ]
  },
  {
   "cell_type": "code",
   "execution_count": 47,
   "id": "390a2e18",
   "metadata": {},
   "outputs": [],
   "source": [
    "def extract_text_from_pdf(pdf_path):\n",
    "    text = \"\"\n",
    "    with open(pdf_path, 'rb') as pdf_file:\n",
    "        pdf_reader = PyPDF2.PdfReader(pdf_file)\n",
    "        for page_num in range(len(pdf_reader.pages)):\n",
    "            if page_num > 0:  # Add newline for page breaks (except the first page)\n",
    "                text += \"\\n\"\n",
    "            text += pdf_reader.pages[page_num].extract_text()\n",
    "    text = unidecode(text)\n",
    "    return text"
   ]
  },
  {
   "cell_type": "code",
   "execution_count": 48,
   "id": "6f3f9904",
   "metadata": {},
   "outputs": [],
   "source": [
    "def identify_headings(text):\n",
    "    headings = []\n",
    "    lines = text.split('\\n')\n",
    "\n",
    "    # Define synonyms and their corresponding fuzz ratio thresholds\n",
    "    heading_synonyms = {\n",
    "        \"Education\": [\"Education\", \"Qualifications\", \"Educational Qualifications\", \"Academic Background\", \"Educational Details\", \"Education and Training\"],\n",
    "        \"Skills\": [\"Skills\", \"Technical Skills\", \"Key Competencies\", \"Skill Highlights\", \"Primary Skills\", \"Specializations\", \"Areas of Expertise\", \"Expertise\", \"Programming Languages\"],\n",
    "        \"Experience\": [\"Work Experience\", \"Professional Background\", \"Professional Experience\", \"Work History\", \"Teaching Experience\", \"Employment History\"],\n",
    "        \"Achievements\": [\"Accomplishments\", \"Achievements\", \"Notable Projects\", \"Qualifications\"],\n",
    "        \"Others\": [\"Awards\", \"Honors\", \"Recognition\", \"Publications\", \"Certifications\", \"Presentations\", \"Volunteer Experience\", \"Leadership Experience\",\"Interests\",\"Hobbies\", \"Languages\", \"Licenses\"],\n",
    "        \"Summary\": [\"Career Overview\", \"Summary\", \"About Me\", \"Profile Summary\", \"Highlights\", \"Objective\"]\n",
    "    }\n",
    "\n",
    "    for line in lines:\n",
    "        line = line.strip()\n",
    "        for heading, synonyms in heading_synonyms.items():\n",
    "            for synonym in synonyms:\n",
    "                if re.match(r'^\\s*{}\\s*'.format(synonym), line, re.IGNORECASE):\n",
    "                    headings.append((line, heading))\n",
    "\n",
    "    found = False\n",
    "    for tup in headings:\n",
    "      if tup[1] == \"Experience\":\n",
    "          found = True\n",
    "\n",
    "    if not found:\n",
    "      for line in lines:\n",
    "        line = line.strip()\n",
    "        for heading, synonyms in heading_synonyms.items():\n",
    "          if heading == \"Experience\":\n",
    "            synonyms = [\"Work Experience\", \"Professional Background\", \"Professional Experience\", \"Work History\", \"Teaching Experience\", \"Employment History\", \"Experience\"]\n",
    "            for synonym in synonyms:\n",
    "                if re.match(r'^\\s*{}\\s*'.format(synonym), line, re.IGNORECASE):\n",
    "                    headings.append((line, heading))\n",
    "    return headings"
   ]
  },
  {
   "cell_type": "code",
   "execution_count": 49,
   "id": "0079528b",
   "metadata": {},
   "outputs": [],
   "source": [
    "def clean_text(text):\n",
    "    # Replace multiple spaces with a single space\n",
    "    text = re.sub(r'\\s+', ' ', text)\n",
    "    # Remove leading and trailing spaces\n",
    "    text = text.strip()\n",
    "    # Remove newline characters\n",
    "    text = text.replace('\\n', ' ')\n",
    "    # Remove tab characters\n",
    "    text = text.replace('\\t', ' ')\n",
    "\n",
    "    return text"
   ]
  },
  {
   "cell_type": "code",
   "execution_count": 50,
   "id": "1ef56a77",
   "metadata": {},
   "outputs": [],
   "source": [
    "def parse_resume(pdf_path):\n",
    "    text = extract_text_from_pdf(pdf_path)\n",
    "    headings = identify_headings(text)\n",
    "\n",
    "    resume_parts = {}\n",
    "    current_heading = \"\"\n",
    "    current_part = \"\"\n",
    "    capturing_work_experience = False\n",
    "\n",
    "    for line in text.split('\\n'):\n",
    "        line = line.strip()\n",
    "        if (line, \"Education\") in headings:\n",
    "            current_heading = \"Education\"\n",
    "            current_part = \"\"\n",
    "            capturing_work_experience = False\n",
    "        elif (line, \"Skills\") in headings:\n",
    "            current_heading = \"Skills\"\n",
    "            current_part = \"\"\n",
    "            capturing_work_experience = False\n",
    "        elif (line, \"Experience\") in headings:\n",
    "            current_heading = \"Experience\"\n",
    "            current_part = \"\"\n",
    "            capturing_work_experience = True\n",
    "        elif (line, \"Achievements\") in headings:\n",
    "            current_heading = \"Achievements\"\n",
    "            current_part = \"\"\n",
    "            capturing_work_experience = False\n",
    "        elif (line, \"Others\") in headings:\n",
    "            current_heading = \"Others\"\n",
    "            current_part = \"\"\n",
    "            capturing_work_experience = False\n",
    "        elif (line, \"Summary\") in headings:\n",
    "            current_heading = \"Summary\"\n",
    "            current_part = \"\"\n",
    "            capturing_work_experience = False\n",
    "        else:\n",
    "            if capturing_work_experience:\n",
    "                current_part += line + \"\\n\"\n",
    "                resume_parts.setdefault(current_heading, \"\")  # Initialize the dictionary key if not present\n",
    "                resume_parts[current_heading] += line + \"\\n\"\n",
    "            else:\n",
    "               if current_heading:\n",
    "                current_part += line + \"\\n\"\n",
    "                resume_parts[current_heading] = current_part\n",
    "\n",
    "    # Create a DataFrame from the parsed resume parts\n",
    "    fixed_columns = {\n",
    "        'ResumeID': '',\n",
    "        'Category':'',\n",
    "        'Education': '',\n",
    "        'Skills': '',\n",
    "        'Experience': '',\n",
    "        'Achievements': '',\n",
    "        'Others':'',\n",
    "        'Summary':''\n",
    "    }\n",
    "\n",
    "    # Update the fixed_columns dictionary with data from the input dictionary\n",
    "    fixed_columns.update(resume_parts)\n",
    "\n",
    "    # Create a DataFrame from the updated dictionary\n",
    "    df = pd.DataFrame([fixed_columns])\n",
    "    df = df.applymap(clean_text)\n",
    "    return df"
   ]
  },
  {
   "cell_type": "code",
   "execution_count": 51,
   "id": "0250b357",
   "metadata": {},
   "outputs": [],
   "source": [
    "dfs = []\n",
    "\n",
    "root_dir = 'uploads/resumes'\n",
    "for root, dirs, files in os.walk(root_dir):\n",
    "    for file in files:\n",
    "        if file.endswith(\".pdf\"):\n",
    "            # Extract text from the PDF file\n",
    "            pdf_path = os.path.join(root, file)\n",
    "            parsed_resume_df = parse_resume(pdf_path)\n",
    "            parsed_resume_df[\"ResumeID\"] = file.replace(\".pdf\",\"\")\n",
    "            parsed_resume_df[\"Category\"] = os.path.basename(root)\n",
    "            dfs.append(parsed_resume_df)\n",
    "dfs = pd.concat(dfs).reset_index(drop=True)"
   ]
  },
  {
   "cell_type": "code",
   "execution_count": 52,
   "id": "c5e3746c",
   "metadata": {},
   "outputs": [],
   "source": [
    "dfs.to_csv(\"Resume_extracted.csv\", index=False)"
   ]
  },
  {
   "cell_type": "code",
   "execution_count": null,
   "id": "44c81875",
   "metadata": {},
   "outputs": [],
   "source": [
    "!pip install -qU datasets transformers sentence-transformers git+https://github.com/naver/splade.git\n",
    "!pip install einops"
   ]
  },
  {
   "cell_type": "markdown",
   "id": "fadc9261",
   "metadata": {},
   "source": [
    "# "
   ]
  },
  {
   "cell_type": "code",
   "execution_count": 53,
   "id": "60966655",
   "metadata": {},
   "outputs": [],
   "source": [
    "from datasets import load_dataset\n",
    "import pandas as pd\n",
    "import ast\n",
    "import torch\n",
    "from splade.models.transformer_rep import Splade\n",
    "from transformers import AutoTokenizer\n",
    "device = 'cuda' if torch.cuda.is_available() else 'cpu'"
   ]
  },
  {
   "cell_type": "code",
   "execution_count": 54,
   "id": "b2f50625",
   "metadata": {},
   "outputs": [],
   "source": [
    "sparse_model_id = 'naver/splade-cocondenser-selfdistil'\n",
    "\n",
    "sparse_model = Splade(sparse_model_id, agg='max')\n",
    "sparse_model.to(device)  # move to GPU if possible\n",
    "sparse_model.eval()\n",
    "tokenizer = AutoTokenizer.from_pretrained(sparse_model_id)"
   ]
  },
  {
   "cell_type": "code",
   "execution_count": 55,
   "id": "44b3042b",
   "metadata": {},
   "outputs": [],
   "source": [
    "dataset = load_dataset(\"jacob-hugging-face/job-descriptions\")\n",
    "dataset = dataset['train']"
   ]
  },
  {
   "cell_type": "code",
   "execution_count": 56,
   "id": "c8528ab1",
   "metadata": {},
   "outputs": [],
   "source": [
    "df = pd.DataFrame(data=dataset)\n",
    "df = df[[\"job_description\", \"position_title\", \"model_response\"]]"
   ]
  },
  {
   "cell_type": "code",
   "execution_count": 57,
   "id": "5f57c09a",
   "metadata": {},
   "outputs": [
    {
     "name": "stdout",
     "output_type": "stream",
     "text": [
      "Current Directory: C:\\Users\\deepv\\Desktop\\IPD\\trial\n"
     ]
    }
   ],
   "source": [
    "current_directory = os.getcwd()\n",
    "\n",
    "# Print the current working directory\n",
    "print(\"Current Directory:\", current_directory)"
   ]
  },
  {
   "cell_type": "code",
   "execution_count": 58,
   "id": "07dfffec",
   "metadata": {},
   "outputs": [],
   "source": [
    "df_candidates = pd.read_csv(\"Resume_extracted.csv\")"
   ]
  },
  {
   "cell_type": "code",
   "execution_count": 59,
   "id": "3da6219f",
   "metadata": {},
   "outputs": [
    {
     "data": {
      "text/plain": [
       "ResumeID        0\n",
       "Category        0\n",
       "Education       2\n",
       "Skills          4\n",
       "Experience      5\n",
       "Achievements    8\n",
       "Others          6\n",
       "Summary         7\n",
       "dtype: int64"
      ]
     },
     "execution_count": 59,
     "metadata": {},
     "output_type": "execute_result"
    }
   ],
   "source": [
    "df_candidates.isna().sum() #shows statistically how well the extractor has performed?"
   ]
  },
  {
   "cell_type": "code",
   "execution_count": 60,
   "id": "c5eb4675",
   "metadata": {},
   "outputs": [],
   "source": [
    "df['model_response'] = df['model_response'].apply(lambda x: ast.literal_eval(x))\n",
    "df_jobdesc = df[df['model_response'].apply(lambda x: x.get('Educational Requirements') != 'N/A' and x.get('Required Skills') != 'N/A' and x.get('Preferred Qualifications') != 'N/A')]\n",
    "df_jobdesc = df_jobdesc.sample(n=15, random_state=42).reset_index(drop=True)"
   ]
  },
  {
   "cell_type": "code",
   "execution_count": 61,
   "id": "95c5455c",
   "metadata": {},
   "outputs": [],
   "source": [
    "def process_row1(row):\n",
    "    text_data = str(row['Education'])\n",
    "    input_ids = tokenizer(\n",
    "        text_data, return_tensors='pt',\n",
    "        padding=True, truncation=True\n",
    "    )\n",
    "\n",
    "    with torch.no_grad():\n",
    "        text_embed = sparse_model(\n",
    "            d_kwargs=input_ids.to(device)\n",
    "        )['d_rep'].squeeze()\n",
    "    return text_embed.cpu().detach().numpy()"
   ]
  },
  {
   "cell_type": "code",
   "execution_count": 62,
   "id": "2b2f727f",
   "metadata": {},
   "outputs": [],
   "source": [
    "def process_row2(row):\n",
    "    text_data = str(row['Skills'])\n",
    "    input_ids = tokenizer(\n",
    "        text_data, return_tensors='pt',\n",
    "        padding=True, truncation=True\n",
    "    )\n",
    "\n",
    "    with torch.no_grad():\n",
    "        text_embed = sparse_model(\n",
    "            d_kwargs=input_ids.to(device)\n",
    "        )['d_rep'].squeeze()\n",
    "    return text_embed.cpu().detach().numpy()"
   ]
  },
  {
   "cell_type": "code",
   "execution_count": 63,
   "id": "383cb24a",
   "metadata": {},
   "outputs": [],
   "source": [
    "def process_row3(row):\n",
    "    text_data = row['model_response'].get('Educational Requirements') + row['model_response'].get('Preferred Qualifications')\n",
    "    input_ids = tokenizer(\n",
    "        text_data, return_tensors='pt',\n",
    "        padding=True, truncation=True\n",
    "    )\n",
    "\n",
    "    with torch.no_grad():\n",
    "        text_embed = sparse_model(\n",
    "            d_kwargs=input_ids.to(device)\n",
    "        )['d_rep'].squeeze()\n",
    "    return text_embed.cpu().detach().numpy()"
   ]
  },
  {
   "cell_type": "code",
   "execution_count": 64,
   "id": "abc4bd04",
   "metadata": {},
   "outputs": [],
   "source": [
    "def process_row4(row):\n",
    "    text_data = row['model_response'].get('Required Skills')\n",
    "    input_ids = tokenizer(\n",
    "        text_data, return_tensors='pt',\n",
    "        padding=True, truncation=True\n",
    "    )\n",
    "\n",
    "    with torch.no_grad():\n",
    "        text_embed = sparse_model(\n",
    "            d_kwargs=input_ids.to(device)\n",
    "        )['d_rep'].squeeze()\n",
    "    return text_embed.cpu().detach().numpy()"
   ]
  },
  {
   "cell_type": "code",
   "execution_count": 65,
   "id": "35906105",
   "metadata": {},
   "outputs": [],
   "source": [
    "from scipy.spatial import distance\n",
    "import numpy as np"
   ]
  },
  {
   "cell_type": "code",
   "execution_count": 66,
   "id": "d002a825",
   "metadata": {},
   "outputs": [],
   "source": [
    "def score(a, b):\n",
    "  return distance.cosine(np.array(a),np.array(b))"
   ]
  },
  {
   "cell_type": "code",
   "execution_count": 67,
   "id": "9317dcba",
   "metadata": {},
   "outputs": [],
   "source": [
    "def find_min_match(row):\n",
    "    row_score = df_candidates['edu_embed'].apply(lambda x: score(row['edu_embed'], x)) + df_candidates['skill_embed'].apply(lambda x: score(row['skill_embed'], x))\n",
    "    min_score_indices = row_score.nsmallest(5).index.tolist()\n",
    "    return df_candidates.loc[min_score_indices, 'ResumeID'].tolist()"
   ]
  },
  {
   "cell_type": "code",
   "execution_count": 68,
   "id": "c92f9361",
   "metadata": {
    "scrolled": true
   },
   "outputs": [
    {
     "name": "stderr",
     "output_type": "stream",
     "text": [
      "C:\\Users\\deepv\\AppData\\Local\\Programs\\Python\\Python311\\Lib\\site-packages\\torch\\amp\\autocast_mode.py:250: UserWarning: User provided device_type of 'cuda', but CUDA is not available. Disabling\n",
      "  warnings.warn(\n",
      "C:\\Users\\deepv\\AppData\\Local\\Programs\\Python\\Python311\\Lib\\site-packages\\torch\\amp\\autocast_mode.py:250: UserWarning: User provided device_type of 'cuda', but CUDA is not available. Disabling\n",
      "  warnings.warn(\n",
      "C:\\Users\\deepv\\AppData\\Local\\Programs\\Python\\Python311\\Lib\\site-packages\\torch\\amp\\autocast_mode.py:250: UserWarning: User provided device_type of 'cuda', but CUDA is not available. Disabling\n",
      "  warnings.warn(\n",
      "C:\\Users\\deepv\\AppData\\Local\\Programs\\Python\\Python311\\Lib\\site-packages\\torch\\amp\\autocast_mode.py:250: UserWarning: User provided device_type of 'cuda', but CUDA is not available. Disabling\n",
      "  warnings.warn(\n"
     ]
    }
   ],
   "source": [
    "df_candidates['edu_embed'] = df_candidates.apply(process_row1, axis=1)\n",
    "df_candidates['skill_embed'] = df_candidates.apply(process_row2, axis=1)\n",
    "df_jobdesc['edu_embed'] = df_jobdesc.apply(process_row3, axis=1)\n",
    "df_jobdesc['skill_embed'] = df_jobdesc.apply(process_row4, axis=1)"
   ]
  },
  {
   "cell_type": "code",
   "execution_count": 69,
   "id": "b26cc969",
   "metadata": {},
   "outputs": [],
   "source": [
    "from tqdm import tqdm"
   ]
  },
  {
   "cell_type": "code",
   "execution_count": 70,
   "id": "10db4402",
   "metadata": {},
   "outputs": [
    {
     "name": "stderr",
     "output_type": "stream",
     "text": [
      "100%|█████████████████████████████████████████████████████████████████████████████████| 15/15 [00:00<00:00, 110.36it/s]\n"
     ]
    }
   ],
   "source": [
    "tqdm.pandas()\n",
    "df_jobdesc['qualified_candidate_ResumeID'] = df_jobdesc.progress_apply(find_min_match, axis=1)"
   ]
  },
  {
   "cell_type": "code",
   "execution_count": 71,
   "id": "b2ce465c",
   "metadata": {},
   "outputs": [
    {
     "data": {
      "text/html": [
       "<div>\n",
       "<style scoped>\n",
       "    .dataframe tbody tr th:only-of-type {\n",
       "        vertical-align: middle;\n",
       "    }\n",
       "\n",
       "    .dataframe tbody tr th {\n",
       "        vertical-align: top;\n",
       "    }\n",
       "\n",
       "    .dataframe thead th {\n",
       "        text-align: right;\n",
       "    }\n",
       "</style>\n",
       "<table border=\"1\" class=\"dataframe\">\n",
       "  <thead>\n",
       "    <tr style=\"text-align: right;\">\n",
       "      <th></th>\n",
       "      <th>position_title</th>\n",
       "      <th>job_description</th>\n",
       "      <th>qualified_candidate_ResumeID</th>\n",
       "    </tr>\n",
       "  </thead>\n",
       "  <tbody>\n",
       "    <tr>\n",
       "      <th>0</th>\n",
       "      <td>Administrative Assistant</td>\n",
       "      <td>this position is located on rikers islandphysi...</td>\n",
       "      <td>[Samkit Shah, Prince Doshi, Deep Vyas, Neel Oz...</td>\n",
       "    </tr>\n",
       "    <tr>\n",
       "      <th>1</th>\n",
       "      <td>Vice President, Marketing, MSNBC</td>\n",
       "      <td>responsibilities\\nthe vice president marketing...</td>\n",
       "      <td>[Prince Doshi, Samkit Shah, Ayushi Uttamani, N...</td>\n",
       "    </tr>\n",
       "    <tr>\n",
       "      <th>2</th>\n",
       "      <td>Senior Vice President and Managing Director, I...</td>\n",
       "      <td>mathematica applies expertise at the intersect...</td>\n",
       "      <td>[Samkit Shah, Neel Oza, Deep Vyas, Prince Dosh...</td>\n",
       "    </tr>\n",
       "    <tr>\n",
       "      <th>3</th>\n",
       "      <td>Regional Sales Manager, Video Conferencing (East)</td>\n",
       "      <td>the regional sales manager will report to the...</td>\n",
       "      <td>[Prince Doshi, Samkit Shah, Deep Vyas, Preksha...</td>\n",
       "    </tr>\n",
       "    <tr>\n",
       "      <th>4</th>\n",
       "      <td>Chief Executive Officer</td>\n",
       "      <td>the role of the chief executive officer ceo is...</td>\n",
       "      <td>[Samkit Shah, Deep Vyas, Prince Doshi, Neel Oz...</td>\n",
       "    </tr>\n",
       "    <tr>\n",
       "      <th>5</th>\n",
       "      <td>Project Manager (CCR focused)</td>\n",
       "      <td>at haley  aldrich we pride ourselves on our sm...</td>\n",
       "      <td>[Samkit Shah, Prince Doshi, Deep Vyas, Neel Oz...</td>\n",
       "    </tr>\n",
       "    <tr>\n",
       "      <th>6</th>\n",
       "      <td>Vice President/Sr. Director Business Developme...</td>\n",
       "      <td>spire learning united states remote\\n\\nspire i...</td>\n",
       "      <td>[Samkit Shah, Prince Doshi, Neel Oza, Deep Vya...</td>\n",
       "    </tr>\n",
       "    <tr>\n",
       "      <th>7</th>\n",
       "      <td>Director of Finance</td>\n",
       "      <td>company description\\nproject finds mission is ...</td>\n",
       "      <td>[Samkit Shah, Prince Doshi, Neel Oza, Preksha ...</td>\n",
       "    </tr>\n",
       "    <tr>\n",
       "      <th>8</th>\n",
       "      <td>Software Engineer (JavaScript Backend)</td>\n",
       "      <td>job description\\nour vision\\n\\nin the new and ...</td>\n",
       "      <td>[Deep Vyas, Prince Doshi, Neel Oza, Samkit Sha...</td>\n",
       "    </tr>\n",
       "    <tr>\n",
       "      <th>9</th>\n",
       "      <td>Senior Financial Analyst</td>\n",
       "      <td>senior financial analyst\\n\\ncompany highlights...</td>\n",
       "      <td>[Samkit Shah, Prince Doshi, Neel Oza, Preksha ...</td>\n",
       "    </tr>\n",
       "    <tr>\n",
       "      <th>10</th>\n",
       "      <td>Senior Data Security Engineer, Vice President ...</td>\n",
       "      <td>do you want your voice heard and your actions ...</td>\n",
       "      <td>[Prince Doshi, Samkit Shah, Deep Vyas, Neel Oz...</td>\n",
       "    </tr>\n",
       "    <tr>\n",
       "      <th>11</th>\n",
       "      <td>Sr. Project Manager</td>\n",
       "      <td>mcm company inc\\n\\njob description senior proj...</td>\n",
       "      <td>[Prince Doshi, Samkit Shah, Neel Oza, Deep Vya...</td>\n",
       "    </tr>\n",
       "    <tr>\n",
       "      <th>12</th>\n",
       "      <td>Customer Service Representative - (1st Shift) ...</td>\n",
       "      <td>donnelley financial solutions dfin is a leader...</td>\n",
       "      <td>[Prince Doshi, Samkit Shah, Neel Oza, Preksha ...</td>\n",
       "    </tr>\n",
       "    <tr>\n",
       "      <th>13</th>\n",
       "      <td>Full Time Digital Marketing Specialist - Colum...</td>\n",
       "      <td>full time digital marketing specialist  columb...</td>\n",
       "      <td>[Samkit Shah, Prince Doshi, Deep Vyas, Preksha...</td>\n",
       "    </tr>\n",
       "    <tr>\n",
       "      <th>14</th>\n",
       "      <td>Registered Nurse (RN-CA02-007)</td>\n",
       "      <td>about bethany\\n\\nfor  years bethany has been i...</td>\n",
       "      <td>[Samkit Shah, Deep Vyas, Preksha Shah, Prince ...</td>\n",
       "    </tr>\n",
       "  </tbody>\n",
       "</table>\n",
       "</div>"
      ],
      "text/plain": [
       "                                       position_title   \n",
       "0                            Administrative Assistant  \\\n",
       "1                    Vice President, Marketing, MSNBC   \n",
       "2   Senior Vice President and Managing Director, I...   \n",
       "3   Regional Sales Manager, Video Conferencing (East)   \n",
       "4                             Chief Executive Officer   \n",
       "5                       Project Manager (CCR focused)   \n",
       "6   Vice President/Sr. Director Business Developme...   \n",
       "7                                 Director of Finance   \n",
       "8              Software Engineer (JavaScript Backend)   \n",
       "9                            Senior Financial Analyst   \n",
       "10  Senior Data Security Engineer, Vice President ...   \n",
       "11                                Sr. Project Manager   \n",
       "12  Customer Service Representative - (1st Shift) ...   \n",
       "13  Full Time Digital Marketing Specialist - Colum...   \n",
       "14                     Registered Nurse (RN-CA02-007)   \n",
       "\n",
       "                                      job_description   \n",
       "0   this position is located on rikers islandphysi...  \\\n",
       "1   responsibilities\\nthe vice president marketing...   \n",
       "2   mathematica applies expertise at the intersect...   \n",
       "3    the regional sales manager will report to the...   \n",
       "4   the role of the chief executive officer ceo is...   \n",
       "5   at haley  aldrich we pride ourselves on our sm...   \n",
       "6   spire learning united states remote\\n\\nspire i...   \n",
       "7   company description\\nproject finds mission is ...   \n",
       "8   job description\\nour vision\\n\\nin the new and ...   \n",
       "9   senior financial analyst\\n\\ncompany highlights...   \n",
       "10  do you want your voice heard and your actions ...   \n",
       "11  mcm company inc\\n\\njob description senior proj...   \n",
       "12  donnelley financial solutions dfin is a leader...   \n",
       "13  full time digital marketing specialist  columb...   \n",
       "14  about bethany\\n\\nfor  years bethany has been i...   \n",
       "\n",
       "                         qualified_candidate_ResumeID  \n",
       "0   [Samkit Shah, Prince Doshi, Deep Vyas, Neel Oz...  \n",
       "1   [Prince Doshi, Samkit Shah, Ayushi Uttamani, N...  \n",
       "2   [Samkit Shah, Neel Oza, Deep Vyas, Prince Dosh...  \n",
       "3   [Prince Doshi, Samkit Shah, Deep Vyas, Preksha...  \n",
       "4   [Samkit Shah, Deep Vyas, Prince Doshi, Neel Oz...  \n",
       "5   [Samkit Shah, Prince Doshi, Deep Vyas, Neel Oz...  \n",
       "6   [Samkit Shah, Prince Doshi, Neel Oza, Deep Vya...  \n",
       "7   [Samkit Shah, Prince Doshi, Neel Oza, Preksha ...  \n",
       "8   [Deep Vyas, Prince Doshi, Neel Oza, Samkit Sha...  \n",
       "9   [Samkit Shah, Prince Doshi, Neel Oza, Preksha ...  \n",
       "10  [Prince Doshi, Samkit Shah, Deep Vyas, Neel Oz...  \n",
       "11  [Prince Doshi, Samkit Shah, Neel Oza, Deep Vya...  \n",
       "12  [Prince Doshi, Samkit Shah, Neel Oza, Preksha ...  \n",
       "13  [Samkit Shah, Prince Doshi, Deep Vyas, Preksha...  \n",
       "14  [Samkit Shah, Deep Vyas, Preksha Shah, Prince ...  "
      ]
     },
     "execution_count": 71,
     "metadata": {},
     "output_type": "execute_result"
    }
   ],
   "source": [
    "final_df = df_jobdesc[[\"position_title\",\"job_description\", \"qualified_candidate_ResumeID\"]]\n",
    "final_df"
   ]
  },
  {
   "cell_type": "code",
   "execution_count": 72,
   "id": "5471e3cc",
   "metadata": {},
   "outputs": [
    {
     "name": "stdout",
     "output_type": "stream",
     "text": [
      "company description\n",
      "project finds mission is to provide low and moderateincome and homeless seniors with the services and support they need to enrich their lives and live independently\n",
      "today project find operates three supportive housing residences that are home to about  people and four senior centers with over  members\n",
      "our members and residents range from the healthy and active to the frail and homebound to the homeless\n",
      "for all these individuals project find is a critical resource providing housing meals and programs that help individuals navigate the challenges of aging by encouraging community engagement and healthy living\n",
      "please visit our website at\n",
      "projectfindorg \n",
      "job overview\n",
      "as the director of finance you will be responsible for building and enhancing the financial infrastructure of project find\n",
      "the director of finance is also responsible for all aspects of the financial operations for project find\n",
      "reporting directly to the executive director the director of finance provides accounting budgetary operational and programmatic support to all agency programs and activities\n",
      "the director of finance directly oversees and supervises the financialaccounting team\n",
      "they will serve as the primary agency contact for all funding contractual matters proposals for new or extended programs and new business development\n",
      "the director of finance is seen as a thought leader and partner who knows how to manage the inevitable rigidity between business objectives and resource utilization\n",
      "key responsibilities\n",
      "provide insightful wellinformed and trusted organizational counsel to the executive director executive team and the board on both financial and broadbased business matters develop internal tools and systems to provide critical financial information to help accelerate growth and profitability and make actionable recommendations on financial goals and strategy track and ensure accurate and timely reporting of project finds financials to board government contracts sources and donors oversees submission of vouchers for payment from a variety of contract sources oversees annual budgeting process for agency and housing corporations assess organizational performance against both budget and companys longterm strategy manage the corporate financial planning budgeting and forecasting function of the agency proactively engage leadership team to develop short medium and longterm financial plans and projections lead and develop the finance team develops and refines policies and procedures manual for finance department works with board and financial advisors to steward investment fund other duties as needed based on organizational needs qualifications\n",
      "bachelors degree from an accredited college or university required masters degree preferred\n",
      "cpa is a plus\n",
      " years of senior management experience with organizations with operations in excess of  million per year and over  employees in a nonprofit agency recent and relevant experience as a finance director at a nonprofit agency with state and federal funding portfolio with strong familiarity with software revenue recognition metrics and best practices\n",
      "proven track record as a resultsdriven supervisor\n",
      "prior experience serving as a key member of a senior executive team with the ability to provide and receive input from ceo board and management peers regarding the financial implications of all major business decisions and strategic objectives excellent business acumen and financial operational orientation with strong fpa skillset experience in a regulated industry preferred nonprofit experience is highly preferred and a strong plus outstanding analytical and problemsolving skills able to communicate effectively at all levels of the organization including directly with the board maintained working knowledge and understanding of regulations laws and industry best practices to ensure compliance with all applicable federal state and local financial laws ability to interpret appropriate laws and policies and ability to advise management and employees accordingly\n",
      "excellent verbal written communications and detailedoriented skills\n",
      "highly organized detailoriented and able to handle multiple projects simultaneously in a fastpaced environment must be able to travel between sites as needed\n",
      "associated topics\n",
      "associate director chief investment officer director finance financial director general operations manager manage operation president finance recruit vice president\n"
     ]
    }
   ],
   "source": [
    "print(final_df.iloc[7]['job_description'])"
   ]
  },
  {
   "cell_type": "code",
   "execution_count": 74,
   "id": "ef8b4e88",
   "metadata": {},
   "outputs": [
    {
     "data": {
      "text/html": [
       "<div>\n",
       "<style scoped>\n",
       "    .dataframe tbody tr th:only-of-type {\n",
       "        vertical-align: middle;\n",
       "    }\n",
       "\n",
       "    .dataframe tbody tr th {\n",
       "        vertical-align: top;\n",
       "    }\n",
       "\n",
       "    .dataframe thead th {\n",
       "        text-align: right;\n",
       "    }\n",
       "</style>\n",
       "<table border=\"1\" class=\"dataframe\">\n",
       "  <thead>\n",
       "    <tr style=\"text-align: right;\">\n",
       "      <th></th>\n",
       "      <th>ResumeID</th>\n",
       "      <th>Category</th>\n",
       "      <th>Education</th>\n",
       "      <th>Skills</th>\n",
       "    </tr>\n",
       "  </thead>\n",
       "  <tbody>\n",
       "    <tr>\n",
       "      <th>2</th>\n",
       "      <td>Deep Vyas</td>\n",
       "      <td>resumes</td>\n",
       "      <td>Bhayander , Thane, India , 401105 deepvyas2003...</td>\n",
       "      <td>* Languages : C, JavaScript, Python, CSS, HTML...</td>\n",
       "    </tr>\n",
       "    <tr>\n",
       "      <th>4</th>\n",
       "      <td>Neel Oza</td>\n",
       "      <td>resumes</td>\n",
       "      <td>Dwarkadas J. Sanghvi College of Engineering 20...</td>\n",
       "      <td>Web Development: HTML5, CSS3, Bootstrap, Tailw...</td>\n",
       "    </tr>\n",
       "    <tr>\n",
       "      <th>5</th>\n",
       "      <td>Preksha Shah</td>\n",
       "      <td>resumes</td>\n",
       "      <td>Dwarkadas .J .Sanghvi College of Engineering(D...</td>\n",
       "      <td>NaN</td>\n",
       "    </tr>\n",
       "    <tr>\n",
       "      <th>6</th>\n",
       "      <td>Prince Doshi</td>\n",
       "      <td>resumes</td>\n",
       "      <td>Bachelors in Information Technology May 2025 D...</td>\n",
       "      <td>Threads Clone (Aug 2023) *Architected a multi-...</td>\n",
       "    </tr>\n",
       "    <tr>\n",
       "      <th>8</th>\n",
       "      <td>Samkit Shah</td>\n",
       "      <td>resumes</td>\n",
       "      <td>Bachelor of Technology - Information Technolog...</td>\n",
       "      <td>JavaScript Frameworks/Libraries: NumPy, pandas...</td>\n",
       "    </tr>\n",
       "  </tbody>\n",
       "</table>\n",
       "</div>"
      ],
      "text/plain": [
       "       ResumeID Category                                          Education   \n",
       "2     Deep Vyas  resumes  Bhayander , Thane, India , 401105 deepvyas2003...  \\\n",
       "4      Neel Oza  resumes  Dwarkadas J. Sanghvi College of Engineering 20...   \n",
       "5  Preksha Shah  resumes  Dwarkadas .J .Sanghvi College of Engineering(D...   \n",
       "6  Prince Doshi  resumes  Bachelors in Information Technology May 2025 D...   \n",
       "8   Samkit Shah  resumes  Bachelor of Technology - Information Technolog...   \n",
       "\n",
       "                                              Skills  \n",
       "2  * Languages : C, JavaScript, Python, CSS, HTML...  \n",
       "4  Web Development: HTML5, CSS3, Bootstrap, Tailw...  \n",
       "5                                                NaN  \n",
       "6  Threads Clone (Aug 2023) *Architected a multi-...  \n",
       "8  JavaScript Frameworks/Libraries: NumPy, pandas...  "
      ]
     },
     "execution_count": 74,
     "metadata": {},
     "output_type": "execute_result"
    }
   ],
   "source": [
    "dfz = df_candidates[df_candidates['ResumeID'].isin(final_df['qualified_candidate_ResumeID'].iloc[7])]\n",
    "dfz = dfz[[\"ResumeID\",\"Category\", \"Education\", \"Skills\"]]\n",
    "dfz"
   ]
  },
  {
   "cell_type": "code",
   "execution_count": 75,
   "id": "baffd3d0",
   "metadata": {},
   "outputs": [],
   "source": [
    "import PyPDF2\n",
    "import pandas as pd\n",
    "from sklearn.feature_extraction.text import CountVectorizer\n",
    "from sklearn.metrics.pairwise import cosine_similarity\n",
    "import nltk\n",
    "from nltk.corpus import stopwords"
   ]
  },
  {
   "cell_type": "code",
   "execution_count": 76,
   "id": "e23fb422",
   "metadata": {},
   "outputs": [
    {
     "name": "stderr",
     "output_type": "stream",
     "text": [
      "[nltk_data] Error loading stopwords: <urlopen error [WinError 10060] A\n",
      "[nltk_data]     connection attempt failed because the connected party\n",
      "[nltk_data]     did not properly respond after a period of time, or\n",
      "[nltk_data]     established connection failed because connected host\n",
      "[nltk_data]     has failed to respond>\n"
     ]
    },
    {
     "data": {
      "text/plain": [
       "False"
      ]
     },
     "execution_count": 76,
     "metadata": {},
     "output_type": "execute_result"
    }
   ],
   "source": [
    "nltk.download('stopwords')"
   ]
  },
  {
   "cell_type": "code",
   "execution_count": 77,
   "id": "41ac33bd",
   "metadata": {},
   "outputs": [],
   "source": [
    "pdf_path = 'uploads/JD'  "
   ]
  },
  {
   "cell_type": "code",
   "execution_count": 78,
   "id": "ed09a25c",
   "metadata": {},
   "outputs": [
    {
     "name": "stdout",
     "output_type": "stream",
     "text": [
      "Job Description Text:\n",
      " \n",
      "Frontend Developer  \n",
      " \n",
      "We are looking for a qualified Front -end developer to join our IT team. You should be able to translate \n",
      "our company and customer needs into functional and appealing interactive applications.  \n",
      "Responsibilities  \n",
      "• Use markup languages like HTML to create user -friendly web pages . \n",
      "• Maintain and improve website . \n",
      "• Optimize applications for maximum speed . \n",
      "• Design mobile -based features  \n",
      "• Collaborate with back -end developers and web designers to improve usability . \n",
      "• Get feedback from, and b uild solutions for, users and customers . \n",
      "• Write functional requirement documents and guides . \n",
      "• Create quality mock  ups and prototypes . \n",
      "• Help back -end developers with coding and troubleshooting . \n",
      "• Ensure high quality graphic standards and brand consistency . \n",
      "• Stay up -to-date on emerging technologies . \n",
      "Requirements  \n",
      "• Proven work experience as a Front -end developer  \n",
      "• Basic understanding of server -side CSS pre -processing platforms, such as LESS and SASS  \n",
      "• Proficient understanding of client -side scripting and  advanced JavaScript \n",
      "libraries /frameworks, such as AngularJS, BackboneJS, ReactJS etc.  \n",
      "• Proficient understanding of code versioning tools, such as Git / Mercurial / SVN  \n",
      "• Familiarity with browser testing and debugging . \n",
      "• In-depth understanding of the entire web development process (design, development and \n",
      "deployment)  \n",
      "• Understanding of layout aesthetics  \n",
      "• Knowledge of SEO principles  \n",
      "• Familiarity with software like Adobe Suite, Photoshop and content management systems  \n",
      "• An ability to perfo rm well in a fast -paced environment . \n",
      "• Excellent analytical and multitasking skills  \n",
      "• BSc degree in Computer Science or relevant field  \n",
      " \n"
     ]
    }
   ],
   "source": [
    "import os\n",
    "import PyPDF2\n",
    "\n",
    "# Define the path to the folder containing the PDF files\n",
    "pdf_folder_path = \"uploads/JD\"\n",
    "\n",
    "# Get a list of PDF files in the specified folder\n",
    "pdf_files = [file for file in os.listdir(pdf_folder_path) if file.lower().endswith('.pdf')]\n",
    "\n",
    "# Check if there are any PDF files in the folder\n",
    "if pdf_files:\n",
    "    # Choose the first PDF file in the list\n",
    "    selected_pdf_file = pdf_files[0]\n",
    "\n",
    "    # Construct the full path to the selected PDF file\n",
    "    pdf_path = os.path.join(pdf_folder_path, selected_pdf_file)\n",
    "\n",
    "    def extract_text_from_pdf(pdf_path):\n",
    "        with open(pdf_path, 'rb') as file:\n",
    "            pdf_reader = PyPDF2.PdfReader(file)\n",
    "            num_pages = len(pdf_reader.pages)\n",
    "            text = \"\"\n",
    "            for page_num in range(num_pages):\n",
    "                text += pdf_reader.pages[page_num].extract_text()\n",
    "            return text\n",
    "\n",
    "    job_description_text = extract_text_from_pdf(pdf_path)\n",
    "    print(\"Job Description Text:\")\n",
    "    print(job_description_text)\n",
    "\n",
    "else:\n",
    "    print(\"No PDF files found in the specified folder.\")\n"
   ]
  },
  {
   "cell_type": "code",
   "execution_count": 79,
   "id": "2de524e9",
   "metadata": {},
   "outputs": [],
   "source": [
    "import nltk\n",
    "from nltk.corpus import stopwords\n",
    "from sklearn.feature_extraction.text import ENGLISH_STOP_WORDS"
   ]
  },
  {
   "cell_type": "code",
   "execution_count": 80,
   "id": "6a4b1c81",
   "metadata": {},
   "outputs": [
    {
     "name": "stdout",
     "output_type": "stream",
     "text": [
      "\n",
      "Preprocessed Job Description:\n",
      "frontend developer looking qualified developer join team able translate company customer needs functional appealing interactive applications responsibilities use markup languages like html create user web pages maintain improve website optimize applications maximum speed design mobile features collaborate developers web designers improve usability feedback b uild solutions users customers write functional requirement documents guides create quality mock ups prototypes help developers coding troubleshooting ensure high quality graphic standards brand consistency stay emerging technologies requirements proven work experience developer basic understanding server css pre platforms sass proficient understanding client scripting advanced javascript libraries angularjs backbonejs reactjs proficient understanding code versioning tools git mercurial svn familiarity browser testing debugging understanding entire web development process design development deployment understanding layout aesthetics knowledge seo principles familiarity software like adobe suite photoshop content management systems ability perfo rm fast environment excellent analytical multitasking skills bsc degree computer science relevant field\n",
      " \n",
      "Frontend Developer  \n",
      " \n",
      "We are looking for a qualified Front -end developer to join our IT team. You should be able to translate \n",
      "our company and customer needs into functional and appealing interactive applications.  \n",
      "Responsibilities  \n",
      "• Use markup languages like HTML to create user -friendly web pages . \n",
      "• Maintain and improve website . \n",
      "• Optimize applications for maximum speed . \n",
      "• Design mobile -based features  \n",
      "• Collaborate with back -end developers and web designers to improve usability . \n",
      "• Get feedback from, and b uild solutions for, users and customers . \n",
      "• Write functional requirement documents and guides . \n",
      "• Create quality mock  ups and prototypes . \n",
      "• Help back -end developers with coding and troubleshooting . \n",
      "• Ensure high quality graphic standards and brand consistency . \n",
      "• Stay up -to-date on emerging technologies . \n",
      "Requirements  \n",
      "• Proven work experience as a Front -end developer  \n",
      "• Basic understanding of server -side CSS pre -processing platforms, such as LESS and SASS  \n",
      "• Proficient understanding of client -side scripting and  advanced JavaScript \n",
      "libraries /frameworks, such as AngularJS, BackboneJS, ReactJS etc.  \n",
      "• Proficient understanding of code versioning tools, such as Git / Mercurial / SVN  \n",
      "• Familiarity with browser testing and debugging . \n",
      "• In-depth understanding of the entire web development process (design, development and \n",
      "deployment)  \n",
      "• Understanding of layout aesthetics  \n",
      "• Knowledge of SEO principles  \n",
      "• Familiarity with software like Adobe Suite, Photoshop and content management systems  \n",
      "• An ability to perfo rm well in a fast -paced environment . \n",
      "• Excellent analytical and multitasking skills  \n",
      "• BSc degree in Computer Science or relevant field  \n",
      " \n"
     ]
    }
   ],
   "source": [
    "def preprocess_text(text):\n",
    "    # Tokenization and removing stopwords\n",
    "    stop_words = set(stopwords.words('english')).union(ENGLISH_STOP_WORDS)\n",
    "    tokens = nltk.word_tokenize(text)\n",
    "    tokens = [word.lower() for word in tokens if word.isalpha() and word.lower() not in stop_words]\n",
    "    return \" \".join(tokens)\n",
    "\n",
    "# Preprocess job description text\n",
    "processed_job_description = preprocess_text(job_description_text)\n",
    "\n",
    "# Display preprocessed text\n",
    "print(\"\\nPreprocessed Job Description:\")\n",
    "print(processed_job_description)\n",
    "print(job_description_text)"
   ]
  },
  {
   "cell_type": "code",
   "execution_count": 81,
   "id": "88355bf5",
   "metadata": {},
   "outputs": [
    {
     "name": "stderr",
     "output_type": "stream",
     "text": [
      "[nltk_data] Error loading punkt: <urlopen error [WinError 10060] A\n",
      "[nltk_data]     connection attempt failed because the connected party\n",
      "[nltk_data]     did not properly respond after a period of time, or\n",
      "[nltk_data]     established connection failed because connected host\n",
      "[nltk_data]     has failed to respond>\n"
     ]
    },
    {
     "data": {
      "text/plain": [
       "False"
      ]
     },
     "execution_count": 81,
     "metadata": {},
     "output_type": "execute_result"
    }
   ],
   "source": [
    "import nltk\n",
    "\n",
    "# Download the punkt tokenizer\n",
    "nltk.download('punkt')"
   ]
  },
  {
   "cell_type": "code",
   "execution_count": 82,
   "id": "264cf60a",
   "metadata": {},
   "outputs": [],
   "source": [
    "from sklearn.feature_extraction.text import ENGLISH_STOP_WORDS"
   ]
  },
  {
   "cell_type": "code",
   "execution_count": 83,
   "id": "6c6a960a",
   "metadata": {},
   "outputs": [
    {
     "name": "stdout",
     "output_type": "stream",
     "text": [
      "\n",
      "Preprocessed Job Description:\n",
      "frontend developer looking qualified developer join team able translate company customer needs functional appealing interactive applications responsibilities use markup languages like html create user web pages maintain improve website optimize applications maximum speed design mobile features collaborate developers web designers improve usability feedback b uild solutions users customers write functional requirement documents guides create quality mock ups prototypes help developers coding troubleshooting ensure high quality graphic standards brand consistency stay emerging technologies requirements proven work experience developer basic understanding server css pre platforms sass proficient understanding client scripting advanced javascript libraries angularjs backbonejs reactjs proficient understanding code versioning tools git mercurial svn familiarity browser testing debugging understanding entire web development process design development deployment understanding layout aesthetics knowledge seo principles familiarity software like adobe suite photoshop content management systems ability perfo rm fast environment excellent analytical multitasking skills bsc degree computer science relevant field\n"
     ]
    }
   ],
   "source": [
    "def preprocess_text(text):\n",
    "    # Tokenization and removing stopwords\n",
    "    stop_words = set(stopwords.words('english')).union(ENGLISH_STOP_WORDS)\n",
    "    tokens = nltk.word_tokenize(text)\n",
    "    tokens = [word.lower() for word in tokens if word.isalpha() and word.lower() not in stop_words]\n",
    "    return \" \".join(tokens)\n",
    "\n",
    "# Preprocess job description text\n",
    "processed_job_description = preprocess_text(job_description_text)\n",
    "\n",
    "# Display preprocessed text\n",
    "print(\"\\nPreprocessed Job Description:\")\n",
    "print(processed_job_description)"
   ]
  },
  {
   "cell_type": "code",
   "execution_count": 84,
   "id": "6ae79d9c",
   "metadata": {},
   "outputs": [],
   "source": [
    "resume_skills_df = pd.read_csv('Resume_extracted.csv')"
   ]
  },
  {
   "cell_type": "code",
   "execution_count": 85,
   "id": "dc734b39",
   "metadata": {},
   "outputs": [],
   "source": [
    "import nltk\n",
    "from nltk.corpus import stopwords\n",
    "from sklearn.feature_extraction.text import ENGLISH_STOP_WORDS\n",
    "\n",
    "def preprocess_text(text):\n",
    "    if isinstance(text, str):  # Check if the value is a string\n",
    "        # Tokenization and removing stopwords\n",
    "        stop_words = set(stopwords.words('english')).union(ENGLISH_STOP_WORDS)\n",
    "        tokens = nltk.word_tokenize(text)\n",
    "        tokens = [word.lower() for word in tokens if word.isalpha() and word.lower() not in stop_words]\n",
    "        return \" \".join(tokens)\n",
    "    else:\n",
    "        return \"\"  # Return an empty string for non-string values (NaN, floats, etc.)\n",
    "\n",
    "# Apply the preprocessing function to the 'Skills' column\n",
    "resume_skills_df['Skills'] = resume_skills_df['Skills'].apply(preprocess_text)\n"
   ]
  },
  {
   "cell_type": "code",
   "execution_count": 86,
   "id": "9884c832",
   "metadata": {},
   "outputs": [],
   "source": [
    "vectorizer = CountVectorizer(lowercase=True, analyzer='word', binary=True)\n",
    "skills_matrix_resumes = vectorizer.fit_transform(resume_skills_df['Skills'])\n",
    "skills_matrix_jd = vectorizer.transform([processed_job_description])\n",
    "\n",
    "# Convert skills to a DataFrame for better visualization\n",
    "skills_resumes_df = pd.DataFrame(skills_matrix_resumes.toarray(), columns=vectorizer.get_feature_names_out())\n",
    "skills_jd_df = pd.DataFrame(skills_matrix_jd.toarray(), columns=vectorizer.get_feature_names_out())"
   ]
  },
  {
   "cell_type": "code",
   "execution_count": 87,
   "id": "5b48aecf",
   "metadata": {},
   "outputs": [
    {
     "name": "stdout",
     "output_type": "stream",
     "text": [
      "\n",
      "Tokenized Skills in Resumes:\n",
      "   access  accuracy  achieving  adaptive  amazon  analytics  api  app   \n",
      "0       0         0          0         0       0          0    0    0  \\\n",
      "1       0         0          0         0       0          1    0    0   \n",
      "2       0         0          0         0       0          0    0    1   \n",
      "3       0         0          0         0       0          0    0    0   \n",
      "4       0         0          0         0       0          0    0    0   \n",
      "5       0         0          0         0       0          0    0    0   \n",
      "6       1         1          1         0       0          0    1    0   \n",
      "7       0         0          0         0       0          0    0    0   \n",
      "8       0         0          0         1       1          0    0    0   \n",
      "\n",
      "   application  architected  ...  user  using  utilize  utilized  video   \n",
      "0            0            0  ...     0      0        0         0      0  \\\n",
      "1            0            0  ...     0      0        0         0      1   \n",
      "2            0            0  ...     1      0        1         0      0   \n",
      "3            0            0  ...     0      0        0         0      0   \n",
      "4            0            0  ...     0      0        0         0      0   \n",
      "5            0            0  ...     0      0        0         0      0   \n",
      "6            1            1  ...     1      1        0         1      0   \n",
      "7            0            0  ...     0      0        0         0      0   \n",
      "8            0            0  ...     0      0        0         0      0   \n",
      "\n",
      "   vision  web  wordpress  worked  writing  \n",
      "0       0    0          0       0        0  \n",
      "1       0    1          1       1        1  \n",
      "2       0    0          0       0        0  \n",
      "3       0    0          0       0        0  \n",
      "4       0    1          0       0        0  \n",
      "5       0    0          0       0        0  \n",
      "6       1    1          0       0        0  \n",
      "7       0    0          0       0        0  \n",
      "8       0    1          0       0        0  \n",
      "\n",
      "[9 rows x 175 columns]\n",
      "\n",
      "Tokenized Skills in JD:\n",
      "   access  accuracy  achieving  adaptive  amazon  analytics  api  app   \n",
      "0       0         0          0         0       0          0    0    0  \\\n",
      "\n",
      "   application  architected  ...  user  using  utilize  utilized  video   \n",
      "0            0            0  ...     1      0        0         0      0  \\\n",
      "\n",
      "   vision  web  wordpress  worked  writing  \n",
      "0       0    1          0       0        0  \n",
      "\n",
      "[1 rows x 175 columns]\n"
     ]
    }
   ],
   "source": [
    "print(\"\\nTokenized Skills in Resumes:\")\n",
    "print(skills_resumes_df)\n",
    "\n",
    "print(\"\\nTokenized Skills in JD:\")\n",
    "print(skills_jd_df)"
   ]
  },
  {
   "cell_type": "code",
   "execution_count": 88,
   "id": "45ce94c5",
   "metadata": {},
   "outputs": [
    {
     "name": "stdout",
     "output_type": "stream",
     "text": [
      "\n",
      "Similarity Scores:\n",
      "   Similarity\n",
      "0    0.000000\n",
      "1    0.181848\n",
      "2    0.445742\n",
      "3    0.000000\n",
      "4    0.263181\n",
      "5    0.000000\n",
      "6    0.223814\n",
      "7    0.000000\n",
      "8    0.227710\n"
     ]
    }
   ],
   "source": [
    "similarity_scores = cosine_similarity(skills_matrix_resumes, skills_matrix_jd)\n",
    "\n",
    "# Convert similarity scores to a DataFrame\n",
    "similarity_df = pd.DataFrame(similarity_scores, columns=['Similarity'], index=resume_skills_df.index)\n",
    "\n",
    "# Display similarity scores\n",
    "print(\"\\nSimilarity Scores:\")\n",
    "print(similarity_df)"
   ]
  },
  {
   "cell_type": "code",
   "execution_count": 89,
   "id": "cc13f0ed",
   "metadata": {},
   "outputs": [
    {
     "name": "stdout",
     "output_type": "stream",
     "text": [
      "\n",
      "Ranked Resumes:\n",
      "   Similarity\n",
      "2    0.445742\n",
      "4    0.263181\n",
      "8    0.227710\n",
      "6    0.223814\n",
      "1    0.181848\n",
      "0    0.000000\n",
      "3    0.000000\n",
      "5    0.000000\n",
      "7    0.000000\n"
     ]
    }
   ],
   "source": [
    "ranked_resumes = similarity_df.sort_values(by='Similarity', ascending=False)\n",
    "\n",
    "# Display ranked resumes\n",
    "print(\"\\nRanked Resumes:\")\n",
    "print(ranked_resumes)"
   ]
  },
  {
   "cell_type": "code",
   "execution_count": 90,
   "id": "ef62deba",
   "metadata": {},
   "outputs": [
    {
     "name": "stdout",
     "output_type": "stream",
     "text": [
      "Ranked Resumes:\n",
      "           ResumeID  Similarity\n",
      "2         Deep Vyas    0.445742\n",
      "4          Neel Oza    0.263181\n",
      "8       Samkit Shah    0.227710\n",
      "6      Prince Doshi    0.223814\n",
      "1   Ayushi Uttamani    0.181848\n",
      "0     Ashish Shukla    0.000000\n",
      "3     Krish Panchal    0.000000\n",
      "5      Preksha Shah    0.000000\n",
      "7  Rishikesh Sharma    0.000000\n"
     ]
    }
   ],
   "source": [
    "# Assuming similarity_df is the DataFrame with similarity scores\n",
    "# and 'ResumeID' is a column in your CSV file\n",
    "\n",
    "# Merge the similarity scores DataFrame with the original resume_skills_df\n",
    "result_df = pd.concat([resume_skills_df['ResumeID'], similarity_df], axis=1)\n",
    "\n",
    "# Sort the DataFrame by the 'Similarity' column in descending order\n",
    "result_df = result_df.sort_values(by='Similarity', ascending=False)\n",
    "\n",
    "# Display the ranked resumes with 'ResumeID'\n",
    "print(\"Ranked Resumes:\")\n",
    "print(result_df)"
   ]
  },
  {
   "cell_type": "code",
   "execution_count": 91,
   "id": "feb01c8d",
   "metadata": {},
   "outputs": [],
   "source": [
    "result_df.to_csv('result_df.csv', index=False)"
   ]
  },
  {
   "cell_type": "code",
   "execution_count": null,
   "id": "14fcd2f7",
   "metadata": {},
   "outputs": [],
   "source": []
  }
 ],
 "metadata": {
  "kernelspec": {
   "display_name": "Python 3 (ipykernel)",
   "language": "python",
   "name": "python3"
  },
  "language_info": {
   "codemirror_mode": {
    "name": "ipython",
    "version": 3
   },
   "file_extension": ".py",
   "mimetype": "text/x-python",
   "name": "python",
   "nbconvert_exporter": "python",
   "pygments_lexer": "ipython3",
   "version": "3.11.2"
  }
 },
 "nbformat": 4,
 "nbformat_minor": 5
}
